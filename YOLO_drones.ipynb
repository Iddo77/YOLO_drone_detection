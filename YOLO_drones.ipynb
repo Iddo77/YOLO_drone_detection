{
 "cells": [
  {
   "cell_type": "markdown",
   "metadata": {
    "colab_type": "text",
    "id": "view-in-github"
   },
   "source": [
    "<a href=\"https://colab.research.google.com/github/Iddo77/YOLO_drone_detection/blob/main/YOLO_drones.ipynb\" target=\"_parent\"><img src=\"https://colab.research.google.com/assets/colab-badge.svg\" alt=\"Open In Colab\"/></a>"
   ]
  },
  {
   "cell_type": "code",
   "execution_count": 2,
   "metadata": {},
   "outputs": [
    {
     "name": "stdout",
     "output_type": "stream",
     "text": [
      "Requirement already satisfied: scikit-learn in d:\\ou master ai\\research methods\\project\\yolo_drone_detection\\yolo-drones-env\\lib\\site-packages (1.2.2)\n",
      "Requirement already satisfied: numpy>=1.17.3 in d:\\ou master ai\\research methods\\project\\yolo_drone_detection\\yolo-drones-env\\lib\\site-packages (from scikit-learn) (1.24.3)\n",
      "Requirement already satisfied: scipy>=1.3.2 in d:\\ou master ai\\research methods\\project\\yolo_drone_detection\\yolo-drones-env\\lib\\site-packages (from scikit-learn) (1.10.1)\n",
      "Requirement already satisfied: joblib>=1.1.1 in d:\\ou master ai\\research methods\\project\\yolo_drone_detection\\yolo-drones-env\\lib\\site-packages (from scikit-learn) (1.2.0)\n",
      "Requirement already satisfied: threadpoolctl>=2.0.0 in d:\\ou master ai\\research methods\\project\\yolo_drone_detection\\yolo-drones-env\\lib\\site-packages (from scikit-learn) (3.1.0)\n"
     ]
    }
   ],
   "source": [
    "!pip install scikit-learn"
   ]
  },
  {
   "cell_type": "code",
   "execution_count": 1,
   "metadata": {
    "id": "afLlCD8A4aGZ"
   },
   "outputs": [],
   "source": [
    "import os\n",
    "import random\n",
    "from sklearn.model_selection import train_test_split"
   ]
  },
  {
   "cell_type": "code",
   "execution_count": 2,
   "metadata": {
    "id": "gF02J2_hLUB8"
   },
   "outputs": [],
   "source": [
    "# constants\n",
    "NUM_TRAIN = 300\n",
    "RANDOM_STATE = 36"
   ]
  },
  {
   "cell_type": "code",
   "execution_count": 3,
   "metadata": {},
   "outputs": [
    {
     "name": "stdout",
     "output_type": "stream",
     "text": [
      "D:\\OU Master AI\\Research methods\\Project\\YOLO_drone_detection\n",
      "D:\\OU Master AI\\Research methods\\Project\\YOLO_drone_detection\\dataset\n"
     ]
    }
   ],
   "source": [
    "# this notebook is expected to run from the Scripts subfolder in the virtual environment\n",
    "# get a the project_path, which is 2 directories higher (just above the virtual environment)\n",
    "note_book_path = os.path.abspath('')\n",
    "project_path = os.path.dirname(os.path.dirname(note_book_path))\n",
    "print(project_path)\n",
    "# get a relative path to the dataset folder\n",
    "dataset_path = os.path.join(project_path, \"dataset\")\n",
    "print(dataset_path)"
   ]
  },
  {
   "cell_type": "code",
   "execution_count": 20,
   "metadata": {
    "colab": {
     "base_uri": "https://localhost:8080/"
    },
    "id": "DZk1w-hq_pFY",
    "outputId": "250a83dd-e75d-44b5-a817-12069813f73f"
   },
   "outputs": [
    {
     "name": "stderr",
     "output_type": "stream",
     "text": [
      "Cloning into 'yolov7'...\n"
     ]
    }
   ],
   "source": [
    "os.chdir(project_path)\n",
    "!git clone https://github.com/WongKinYiu/yolov7.git"
   ]
  },
  {
   "cell_type": "code",
   "execution_count": 18,
   "metadata": {
    "colab": {
     "base_uri": "https://localhost:8080/"
    },
    "id": "QYDynnZL_sNA",
    "outputId": "20656f1a-ada1-4b57-bc32-829aced034c9"
   },
   "outputs": [
    {
     "name": "stdout",
     "output_type": "stream",
     "text": [
      "Collecting matplotlib>=3.2.2 (from -r requirements.txt (line 4))\n",
      "  Using cached matplotlib-3.7.1-cp311-cp311-win_amd64.whl (7.6 MB)\n",
      "Requirement already satisfied: numpy<1.24.0,>=1.18.5 in d:\\ou master ai\\research methods\\project\\yolo_drone_detection\\yolo-drones-env\\lib\\site-packages (from -r requirements.txt (line 5)) (1.23.5)\n",
      "Collecting opencv-python>=4.1.1 (from -r requirements.txt (line 6))\n",
      "  Using cached opencv_python-4.7.0.72-cp37-abi3-win_amd64.whl (38.2 MB)\n",
      "Requirement already satisfied: Pillow>=7.1.2 in d:\\ou master ai\\research methods\\project\\yolo_drone_detection\\yolo-drones-env\\lib\\site-packages (from -r requirements.txt (line 7)) (9.5.0)\n",
      "Requirement already satisfied: PyYAML>=5.3.1 in d:\\ou master ai\\research methods\\project\\yolo_drone_detection\\yolo-drones-env\\lib\\site-packages (from -r requirements.txt (line 8)) (6.0)\n",
      "Collecting requests>=2.23.0 (from -r requirements.txt (line 9))\n",
      "  Using cached requests-2.30.0-py3-none-any.whl (62 kB)\n",
      "Requirement already satisfied: scipy>=1.4.1 in d:\\ou master ai\\research methods\\project\\yolo_drone_detection\\yolo-drones-env\\lib\\site-packages (from -r requirements.txt (line 10)) (1.10.1)\n",
      "Collecting torch!=1.12.0,>=1.7.0 (from -r requirements.txt (line 11))\n",
      "  Using cached torch-2.0.0-cp311-cp311-win_amd64.whl (172.3 MB)\n",
      "Collecting torchvision!=0.13.0,>=0.8.1 (from -r requirements.txt (line 12))\n",
      "  Using cached torchvision-0.15.1-cp311-cp311-win_amd64.whl (1.2 MB)\n",
      "Requirement already satisfied: tqdm>=4.41.0 in d:\\ou master ai\\research methods\\project\\yolo_drone_detection\\yolo-drones-env\\lib\\site-packages (from -r requirements.txt (line 13)) (4.65.0)\n",
      "Requirement already satisfied: protobuf<4.21.3 in d:\\ou master ai\\research methods\\project\\yolo_drone_detection\\yolo-drones-env\\lib\\site-packages (from -r requirements.txt (line 14)) (4.21.2)\n",
      "Collecting tensorboard>=2.4.1 (from -r requirements.txt (line 17))\n",
      "  Using cached tensorboard-2.13.0-py3-none-any.whl (5.6 MB)\n",
      "Collecting pandas>=1.1.4 (from -r requirements.txt (line 21))\n",
      "  Using cached pandas-2.0.1-cp311-cp311-win_amd64.whl (10.6 MB)\n",
      "Collecting seaborn>=0.11.0 (from -r requirements.txt (line 22))\n",
      "  Using cached seaborn-0.12.2-py3-none-any.whl (293 kB)\n",
      "Requirement already satisfied: ipython in d:\\ou master ai\\research methods\\project\\yolo_drone_detection\\yolo-drones-env\\lib\\site-packages (from -r requirements.txt (line 34)) (8.13.2)\n",
      "Requirement already satisfied: psutil in d:\\ou master ai\\research methods\\project\\yolo_drone_detection\\yolo-drones-env\\lib\\site-packages (from -r requirements.txt (line 35)) (5.9.5)\n",
      "Collecting thop (from -r requirements.txt (line 36))\n",
      "  Using cached thop-0.1.1.post2209072238-py3-none-any.whl (15 kB)\n",
      "Collecting contourpy>=1.0.1 (from matplotlib>=3.2.2->-r requirements.txt (line 4))\n",
      "  Using cached contourpy-1.0.7-cp311-cp311-win_amd64.whl (162 kB)\n",
      "Collecting cycler>=0.10 (from matplotlib>=3.2.2->-r requirements.txt (line 4))\n",
      "  Using cached cycler-0.11.0-py3-none-any.whl (6.4 kB)\n",
      "Collecting fonttools>=4.22.0 (from matplotlib>=3.2.2->-r requirements.txt (line 4))\n",
      "  Using cached fonttools-4.39.3-py3-none-any.whl (1.0 MB)\n",
      "Collecting kiwisolver>=1.0.1 (from matplotlib>=3.2.2->-r requirements.txt (line 4))\n",
      "  Using cached kiwisolver-1.4.4-cp311-cp311-win_amd64.whl (55 kB)\n",
      "Requirement already satisfied: packaging>=20.0 in d:\\ou master ai\\research methods\\project\\yolo_drone_detection\\yolo-drones-env\\lib\\site-packages (from matplotlib>=3.2.2->-r requirements.txt (line 4)) (23.1)\n",
      "Requirement already satisfied: pyparsing>=2.3.1 in d:\\ou master ai\\research methods\\project\\yolo_drone_detection\\yolo-drones-env\\lib\\site-packages (from matplotlib>=3.2.2->-r requirements.txt (line 4)) (3.0.9)\n",
      "Requirement already satisfied: python-dateutil>=2.7 in d:\\ou master ai\\research methods\\project\\yolo_drone_detection\\yolo-drones-env\\lib\\site-packages (from matplotlib>=3.2.2->-r requirements.txt (line 4)) (2.8.2)\n",
      "Collecting charset-normalizer<4,>=2 (from requests>=2.23.0->-r requirements.txt (line 9))\n",
      "  Using cached charset_normalizer-3.1.0-cp311-cp311-win_amd64.whl (96 kB)\n",
      "Requirement already satisfied: idna<4,>=2.5 in d:\\ou master ai\\research methods\\project\\yolo_drone_detection\\yolo-drones-env\\lib\\site-packages (from requests>=2.23.0->-r requirements.txt (line 9)) (3.4)\n",
      "Requirement already satisfied: urllib3<3,>=1.21.1 in d:\\ou master ai\\research methods\\project\\yolo_drone_detection\\yolo-drones-env\\lib\\site-packages (from requests>=2.23.0->-r requirements.txt (line 9)) (2.0.2)\n",
      "Collecting certifi>=2017.4.17 (from requests>=2.23.0->-r requirements.txt (line 9))\n",
      "  Using cached certifi-2023.5.7-py3-none-any.whl (156 kB)\n",
      "Collecting filelock (from torch!=1.12.0,>=1.7.0->-r requirements.txt (line 11))\n",
      "  Using cached filelock-3.12.0-py3-none-any.whl (10 kB)\n",
      "Requirement already satisfied: typing-extensions in d:\\ou master ai\\research methods\\project\\yolo_drone_detection\\yolo-drones-env\\lib\\site-packages (from torch!=1.12.0,>=1.7.0->-r requirements.txt (line 11)) (4.5.0)\n",
      "Requirement already satisfied: sympy in d:\\ou master ai\\research methods\\project\\yolo_drone_detection\\yolo-drones-env\\lib\\site-packages (from torch!=1.12.0,>=1.7.0->-r requirements.txt (line 11)) (1.11.1)\n",
      "Collecting networkx (from torch!=1.12.0,>=1.7.0->-r requirements.txt (line 11))\n",
      "  Using cached networkx-3.1-py3-none-any.whl (2.1 MB)\n",
      "Requirement already satisfied: jinja2 in d:\\ou master ai\\research methods\\project\\yolo_drone_detection\\yolo-drones-env\\lib\\site-packages (from torch!=1.12.0,>=1.7.0->-r requirements.txt (line 11)) (3.1.2)\n",
      "Requirement already satisfied: colorama in d:\\ou master ai\\research methods\\project\\yolo_drone_detection\\yolo-drones-env\\lib\\site-packages (from tqdm>=4.41.0->-r requirements.txt (line 13)) (0.4.6)\n",
      "Collecting absl-py>=0.4 (from tensorboard>=2.4.1->-r requirements.txt (line 17))\n",
      "  Using cached absl_py-1.4.0-py3-none-any.whl (126 kB)\n",
      "Collecting grpcio>=1.48.2 (from tensorboard>=2.4.1->-r requirements.txt (line 17))\n",
      "  Using cached grpcio-1.54.0-cp311-cp311-win_amd64.whl (4.1 MB)\n",
      "Collecting google-auth<3,>=1.6.3 (from tensorboard>=2.4.1->-r requirements.txt (line 17))\n",
      "  Using cached google_auth-2.17.3-py2.py3-none-any.whl (178 kB)\n",
      "Collecting google-auth-oauthlib<1.1,>=0.5 (from tensorboard>=2.4.1->-r requirements.txt (line 17))\n",
      "  Using cached google_auth_oauthlib-1.0.0-py2.py3-none-any.whl (18 kB)\n",
      "Collecting markdown>=2.6.8 (from tensorboard>=2.4.1->-r requirements.txt (line 17))\n",
      "  Using cached Markdown-3.4.3-py3-none-any.whl (93 kB)\n",
      "Requirement already satisfied: setuptools>=41.0.0 in d:\\ou master ai\\research methods\\project\\yolo_drone_detection\\yolo-drones-env\\lib\\site-packages (from tensorboard>=2.4.1->-r requirements.txt (line 17)) (65.5.0)\n",
      "Requirement already satisfied: tensorboard-data-server<0.8.0,>=0.7.0 in d:\\ou master ai\\research methods\\project\\yolo_drone_detection\\yolo-drones-env\\lib\\site-packages (from tensorboard>=2.4.1->-r requirements.txt (line 17)) (0.7.0)\n",
      "Requirement already satisfied: werkzeug>=1.0.1 in d:\\ou master ai\\research methods\\project\\yolo_drone_detection\\yolo-drones-env\\lib\\site-packages (from tensorboard>=2.4.1->-r requirements.txt (line 17)) (2.3.3)\n",
      "Requirement already satisfied: wheel>=0.26 in d:\\ou master ai\\research methods\\project\\yolo_drone_detection\\yolo-drones-env\\lib\\site-packages (from tensorboard>=2.4.1->-r requirements.txt (line 17)) (0.40.0)\n",
      "Requirement already satisfied: pytz>=2020.1 in d:\\ou master ai\\research methods\\project\\yolo_drone_detection\\yolo-drones-env\\lib\\site-packages (from pandas>=1.1.4->-r requirements.txt (line 21)) (2023.3)\n",
      "Requirement already satisfied: tzdata>=2022.1 in d:\\ou master ai\\research methods\\project\\yolo_drone_detection\\yolo-drones-env\\lib\\site-packages (from pandas>=1.1.4->-r requirements.txt (line 21)) (2023.3)\n",
      "Requirement already satisfied: backcall in d:\\ou master ai\\research methods\\project\\yolo_drone_detection\\yolo-drones-env\\lib\\site-packages (from ipython->-r requirements.txt (line 34)) (0.2.0)\n",
      "Requirement already satisfied: decorator in d:\\ou master ai\\research methods\\project\\yolo_drone_detection\\yolo-drones-env\\lib\\site-packages (from ipython->-r requirements.txt (line 34)) (5.1.1)\n",
      "Requirement already satisfied: jedi>=0.16 in d:\\ou master ai\\research methods\\project\\yolo_drone_detection\\yolo-drones-env\\lib\\site-packages (from ipython->-r requirements.txt (line 34)) (0.18.2)\n",
      "Requirement already satisfied: matplotlib-inline in d:\\ou master ai\\research methods\\project\\yolo_drone_detection\\yolo-drones-env\\lib\\site-packages (from ipython->-r requirements.txt (line 34)) (0.1.6)\n",
      "Requirement already satisfied: pickleshare in d:\\ou master ai\\research methods\\project\\yolo_drone_detection\\yolo-drones-env\\lib\\site-packages (from ipython->-r requirements.txt (line 34)) (0.7.5)\n",
      "Requirement already satisfied: prompt-toolkit!=3.0.37,<3.1.0,>=3.0.30 in d:\\ou master ai\\research methods\\project\\yolo_drone_detection\\yolo-drones-env\\lib\\site-packages (from ipython->-r requirements.txt (line 34)) (3.0.38)\n",
      "Requirement already satisfied: pygments>=2.4.0 in d:\\ou master ai\\research methods\\project\\yolo_drone_detection\\yolo-drones-env\\lib\\site-packages (from ipython->-r requirements.txt (line 34)) (2.15.1)\n",
      "Requirement already satisfied: stack-data in d:\\ou master ai\\research methods\\project\\yolo_drone_detection\\yolo-drones-env\\lib\\site-packages (from ipython->-r requirements.txt (line 34)) (0.6.2)\n",
      "Requirement already satisfied: traitlets>=5 in d:\\ou master ai\\research methods\\project\\yolo_drone_detection\\yolo-drones-env\\lib\\site-packages (from ipython->-r requirements.txt (line 34)) (5.9.0)\n",
      "Collecting cachetools<6.0,>=2.0.0 (from google-auth<3,>=1.6.3->tensorboard>=2.4.1->-r requirements.txt (line 17))\n",
      "  Using cached cachetools-5.3.0-py3-none-any.whl (9.3 kB)\n",
      "Collecting pyasn1-modules>=0.2.1 (from google-auth<3,>=1.6.3->tensorboard>=2.4.1->-r requirements.txt (line 17))\n",
      "  Using cached pyasn1_modules-0.3.0-py2.py3-none-any.whl (181 kB)\n",
      "Requirement already satisfied: six>=1.9.0 in d:\\ou master ai\\research methods\\project\\yolo_drone_detection\\yolo-drones-env\\lib\\site-packages (from google-auth<3,>=1.6.3->tensorboard>=2.4.1->-r requirements.txt (line 17)) (1.16.0)\n",
      "Collecting rsa<5,>=3.1.4 (from google-auth<3,>=1.6.3->tensorboard>=2.4.1->-r requirements.txt (line 17))\n",
      "  Using cached rsa-4.9-py3-none-any.whl (34 kB)\n",
      "Collecting requests-oauthlib>=0.7.0 (from google-auth-oauthlib<1.1,>=0.5->tensorboard>=2.4.1->-r requirements.txt (line 17))\n",
      "  Using cached requests_oauthlib-1.3.1-py2.py3-none-any.whl (23 kB)\n",
      "Requirement already satisfied: parso<0.9.0,>=0.8.0 in d:\\ou master ai\\research methods\\project\\yolo_drone_detection\\yolo-drones-env\\lib\\site-packages (from jedi>=0.16->ipython->-r requirements.txt (line 34)) (0.8.3)\n",
      "Requirement already satisfied: wcwidth in d:\\ou master ai\\research methods\\project\\yolo_drone_detection\\yolo-drones-env\\lib\\site-packages (from prompt-toolkit!=3.0.37,<3.1.0,>=3.0.30->ipython->-r requirements.txt (line 34)) (0.2.6)\n",
      "Requirement already satisfied: MarkupSafe>=2.1.1 in d:\\ou master ai\\research methods\\project\\yolo_drone_detection\\yolo-drones-env\\lib\\site-packages (from werkzeug>=1.0.1->tensorboard>=2.4.1->-r requirements.txt (line 17)) (2.1.2)\n",
      "Requirement already satisfied: executing>=1.2.0 in d:\\ou master ai\\research methods\\project\\yolo_drone_detection\\yolo-drones-env\\lib\\site-packages (from stack-data->ipython->-r requirements.txt (line 34)) (1.2.0)\n",
      "Requirement already satisfied: asttokens>=2.1.0 in d:\\ou master ai\\research methods\\project\\yolo_drone_detection\\yolo-drones-env\\lib\\site-packages (from stack-data->ipython->-r requirements.txt (line 34)) (2.2.1)\n",
      "Requirement already satisfied: pure-eval in d:\\ou master ai\\research methods\\project\\yolo_drone_detection\\yolo-drones-env\\lib\\site-packages (from stack-data->ipython->-r requirements.txt (line 34)) (0.2.2)\n",
      "Requirement already satisfied: mpmath>=0.19 in d:\\ou master ai\\research methods\\project\\yolo_drone_detection\\yolo-drones-env\\lib\\site-packages (from sympy->torch!=1.12.0,>=1.7.0->-r requirements.txt (line 11)) (1.3.0)\n",
      "Requirement already satisfied: pyasn1<0.6.0,>=0.4.6 in d:\\ou master ai\\research methods\\project\\yolo_drone_detection\\yolo-drones-env\\lib\\site-packages (from pyasn1-modules>=0.2.1->google-auth<3,>=1.6.3->tensorboard>=2.4.1->-r requirements.txt (line 17)) (0.5.0)\n",
      "Requirement already satisfied: oauthlib>=3.0.0 in d:\\ou master ai\\research methods\\project\\yolo_drone_detection\\yolo-drones-env\\lib\\site-packages (from requests-oauthlib>=0.7.0->google-auth-oauthlib<1.1,>=0.5->tensorboard>=2.4.1->-r requirements.txt (line 17)) (3.2.2)\n",
      "Installing collected packages: rsa, pyasn1-modules, opencv-python, networkx, markdown, kiwisolver, grpcio, fonttools, filelock, cycler, contourpy, charset-normalizer, certifi, cachetools, absl-py, torch, requests, pandas, matplotlib, google-auth, torchvision, thop, seaborn, requests-oauthlib, google-auth-oauthlib, tensorboard\n",
      "Successfully installed absl-py-1.4.0 cachetools-5.3.0 certifi-2023.5.7 charset-normalizer-3.1.0 contourpy-1.0.7 cycler-0.11.0 filelock-3.12.0 fonttools-4.39.3 google-auth-2.17.3 google-auth-oauthlib-1.0.0 grpcio-1.54.0 kiwisolver-1.4.4 markdown-3.4.3 matplotlib-3.7.1 networkx-3.1 opencv-python-4.7.0.72 pandas-2.0.1 pyasn1-modules-0.3.0 requests-2.30.0 requests-oauthlib-1.3.1 rsa-4.9 seaborn-0.12.2 tensorboard-2.13.0 thop-0.1.1.post2209072238 torch-2.0.0 torchvision-0.15.1\n"
     ]
    }
   ],
   "source": [
    "os.chdir(os.path.join(project_path, 'yolov7'))\n",
    "!pip install -r requirements.txt"
   ]
  },
  {
   "cell_type": "code",
   "execution_count": 4,
   "metadata": {
    "id": "L7naRD5EA5iJ"
   },
   "outputs": [],
   "source": [
    "def create_train_val_test_txt_files():\n",
    "    # get all image files and shuffle them\n",
    "    all_images = [f for f in os.listdir(dataset_path) if f.endswith('.jpg')]\n",
    "    random.shuffle(all_images)\n",
    "\n",
    "    # Split the dataset into training, validation, and test sets\n",
    "    train_images = all_images[:NUM_TRAIN]\n",
    "    test_val_images = all_images[NUM_TRAIN:]\n",
    "\n",
    "    # split the test_val set into validation and test sets\n",
    "    val_images, test_images = train_test_split(test_val_images, \n",
    "                                               train_size=0.5, \n",
    "                                               test_size=0.5, \n",
    "                                               random_state=RANDOM_STATE)\n",
    "\n",
    "    # Write the paths to the train, val, and test text files\n",
    "    with open(os.path.join(project_path, 'train.txt'), 'w') as f:\n",
    "        for img in train_images:\n",
    "            f.write(os.path.join(dataset_path, img) + '\\n')\n",
    "\n",
    "    with open(os.path.join(project_path, 'val.txt'), 'w') as f:\n",
    "        for img in val_images:\n",
    "            f.write(os.path.join(dataset_path, img) + '\\n')\n",
    "\n",
    "    with open(os.path.join(project_path, 'test.txt'), 'w') as f:\n",
    "        for img in test_images:\n",
    "            f.write(os.path.join(dataset_path, img) + '\\n')"
   ]
  },
  {
   "cell_type": "code",
   "execution_count": 5,
   "metadata": {
    "id": "C78nU_qwS-Xu"
   },
   "outputs": [],
   "source": [
    "def create_custom_yaml_file():\n",
    "    \"\"\"\n",
    "    Creates a custom YAML file for YOLO that specifies the paths to the training, \n",
    "    validation, and test sets.\n",
    "    \"\"\"\n",
    "    yaml_text = f\"\"\"train: '{os.path.join(project_path, \"train.txt\")}'\n",
    "val: '{os.path.join(project_path, \"val.txt\")}'\n",
    "test: '{os.path.join(project_path, \"test.txt\")}'\n",
    "nc: 1\n",
    "names: ['drone']\n",
    "\"\"\"\n",
    "    with open(os.path.join(project_path, 'custom.yaml'), 'w') as f:\n",
    "        f.write(yaml_text)\n"
   ]
  },
  {
   "cell_type": "code",
   "execution_count": 6,
   "metadata": {
    "id": "r9Sl-cXtMXPj"
   },
   "outputs": [],
   "source": [
    "create_train_val_test_txt_files()\n",
    "create_custom_yaml_file()"
   ]
  },
  {
   "cell_type": "code",
   "execution_count": 10,
   "metadata": {
    "colab": {
     "base_uri": "https://localhost:8080/"
    },
    "id": "WeF3DYL3hzbt",
    "outputId": "f12c2b1c-840f-48b6-a387-cbcd16b66842",
    "scrolled": true
   },
   "outputs": [
    {
     "name": "stderr",
     "output_type": "stream",
     "text": [
      "Traceback (most recent call last):\n",
      "  File \"D:\\OU Master AI\\Research methods\\Project\\YOLO_drone_detection\\yolov7\\train.py\", line 12, in <module>\n",
      "    import torch.distributed as dist\n",
      "  File \"D:\\OU Master AI\\Research methods\\Project\\YOLO_drone_detection\\yolo-drones-env\\Lib\\site-packages\\torch\\__init__.py\", line 122, in <module>\n",
      "    raise err\n",
      "OSError: [WinError 1114] A dynamic link library (DLL) initialization routine failed. Error loading \"D:\\OU Master AI\\Research methods\\Project\\YOLO_drone_detection\\yolo-drones-env\\Lib\\site-packages\\torch\\lib\\nvfuser_codegen.dll\" or one of its dependencies.\n"
     ]
    }
   ],
   "source": [
    "# finetune the base model using the custom.yaml file created above\n",
    "os.chdir(os.path.join(project_path, 'yolov7'))\n",
    "!python train.py --workers 8 --device 0 --batch-size 16 --data \"{os.path.join(project_path, 'custom.yaml')}\" --img 640 640 --cfg cfg/training/yolov7.yaml --weights './yolov7_training.pt' --name yolov7-custom --hyp data/hyp.scratch.custom.yaml"
   ]
  },
  {
   "cell_type": "code",
   "execution_count": null,
   "metadata": {},
   "outputs": [],
   "source": []
  }
 ],
 "metadata": {
  "accelerator": "GPU",
  "colab": {
   "authorship_tag": "ABX9TyMhOHaly1njAeokb6Jgduu0",
   "gpuType": "T4",
   "include_colab_link": true,
   "provenance": []
  },
  "gpuClass": "standard",
  "kernelspec": {
   "display_name": "Python 3 (ipykernel)",
   "language": "python",
   "name": "python3"
  },
  "language_info": {
   "codemirror_mode": {
    "name": "ipython",
    "version": 3
   },
   "file_extension": ".py",
   "mimetype": "text/x-python",
   "name": "python",
   "nbconvert_exporter": "python",
   "pygments_lexer": "ipython3",
   "version": "3.11.0"
  }
 },
 "nbformat": 4,
 "nbformat_minor": 1
}
